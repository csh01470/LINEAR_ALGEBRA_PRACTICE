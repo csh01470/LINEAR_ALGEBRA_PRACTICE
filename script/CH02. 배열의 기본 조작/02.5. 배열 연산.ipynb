{
 "cells": [
  {
   "cell_type": "markdown",
   "metadata": {},
   "source": [
    "## CH2.5. **배열 연산**"
   ]
  },
  {
   "cell_type": "markdown",
   "metadata": {},
   "source": [
    "## 00. **SET WORK ENVORINMENT**"
   ]
  },
  {
   "cell_type": "markdown",
   "metadata": {},
   "source": [
    "#### 00.1. **IMPORT PACKAGES AND SET OPTIONS**"
   ]
  },
  {
   "cell_type": "code",
   "execution_count": 1,
   "metadata": {},
   "outputs": [],
   "source": [
    "import numpy as np"
   ]
  },
  {
   "cell_type": "markdown",
   "metadata": {},
   "source": [
    "<b></b>"
   ]
  },
  {
   "cell_type": "markdown",
   "metadata": {},
   "source": [
    "## 01. **배열의 합**"
   ]
  },
  {
   "cell_type": "markdown",
   "metadata": {},
   "source": [
    "#### **01.1.** 브로드 캐스팅(Broad Casting) : \n",
    "#### **(1)** 더 작은 배열을 자동으로 더 큰 배열의 크기에 맞춰 확장하는 메커니즘\n",
    "#### **(2)** 연산기호 `*`을 이용하면 브로드캐스팅을 이용하여 연산 처리"
   ]
  },
  {
   "cell_type": "markdown",
   "metadata": {},
   "source": [
    "#### 01.2. **행렬-스칼라 합 (By broad-casting)**\n",
    "#### matrix_01 $ \\; = \\begin{bmatrix} 1&3&-5 \\\\ 2&0&-4 \\\\ 3&2&1 \\end{bmatrix}, \\; \\begin{bmatrix} 3&3&3 \\\\ 3&3&3 \\\\ 3&3&3 \\end{bmatrix} + $ matrix_01 $ = ? $"
   ]
  },
  {
   "cell_type": "code",
   "execution_count": 2,
   "metadata": {},
   "outputs": [
    {
     "data": {
      "text/plain": [
       "array([[ 1,  3, -5],\n",
       "       [ 2,  0, -4],\n",
       "       [ 3,  2,  1]], dtype=int64)"
      ]
     },
     "execution_count": 2,
     "metadata": {},
     "output_type": "execute_result"
    }
   ],
   "source": [
    "#(1) Define `matrix_01`\n",
    "matrix_01 = np.array(object=[[1, 3, -5], [2, 0, -4], [3, 2, 1]], dtype=np.int64)\n",
    "\n",
    "#(2) Print `matrix_01`\n",
    "matrix_01"
   ]
  },
  {
   "cell_type": "code",
   "execution_count": 3,
   "metadata": {},
   "outputs": [
    {
     "data": {
      "text/plain": [
       "array([[ 4,  6, -2],\n",
       "       [ 5,  3, -1],\n",
       "       [ 6,  5,  4]], dtype=int64)"
      ]
     },
     "execution_count": 3,
     "metadata": {},
     "output_type": "execute_result"
    }
   ],
   "source": [
    "#(3) Print `matrix_01` + 3\n",
    "matrix_01 + 3"
   ]
  },
  {
   "cell_type": "markdown",
   "metadata": {},
   "source": [
    "#### 01.3. **행렬-벡터 합 (By broad-casting)**\n",
    "#### matrix_01 $ \\; = \\begin{bmatrix} 1&3&-5 \\\\ 2&0&-4 \\\\ 3&2&1 \\end{bmatrix}, \\; $ vector_01 $ \\; = \\begin{bmatrix} -3&2&0 \\end{bmatrix}, \\; \\begin{bmatrix} \\text{vector\\_01} \\\\ \\text{vector\\_01} \\\\ \\text{vector\\_01} \\end{bmatrix} + $ matrix_01 $ = ? $"
   ]
  },
  {
   "cell_type": "code",
   "execution_count": 4,
   "metadata": {},
   "outputs": [
    {
     "data": {
      "text/plain": [
       "array([-3,  2,  0])"
      ]
     },
     "execution_count": 4,
     "metadata": {},
     "output_type": "execute_result"
    }
   ],
   "source": [
    "#(1) Define `vector_01`\n",
    "vector_01 = np.array(object=[-3, 2, 0])\n",
    "\n",
    "#(2) Print `vector_01`\n",
    "vector_01"
   ]
  },
  {
   "cell_type": "code",
   "execution_count": 5,
   "metadata": {},
   "outputs": [
    {
     "data": {
      "text/plain": [
       "array([[-2,  5, -5],\n",
       "       [-1,  2, -4],\n",
       "       [ 0,  4,  1]], dtype=int64)"
      ]
     },
     "execution_count": 5,
     "metadata": {},
     "output_type": "execute_result"
    }
   ],
   "source": [
    "#(3) Print `matrix_01` + `vector_01`\n",
    "matrix_01 + vector_01"
   ]
  },
  {
   "cell_type": "markdown",
   "metadata": {},
   "source": [
    "**(MEMO)** 두 배열의 사이즈들의 값 중 한 개라도 일치하면 연산이 되지만, 그렇지 않으면 연산되지 않음"
   ]
  },
  {
   "cell_type": "code",
   "execution_count": 6,
   "metadata": {},
   "outputs": [
    {
     "name": "stdout",
     "output_type": "stream",
     "text": [
      ">> AN ERROR OCCURRED. ERROR MESSAGE IS \"operands could not be broadcast together with shapes (3,3) (2,) \".\n"
     ]
    }
   ],
   "source": [
    "#(1) Define `vector_02`\n",
    "vector_02 = np.array(object=[1, 3], dtype=np.int64)\n",
    "\n",
    "#(2) Print `vector_01` + `vector_02`\n",
    "try : \n",
    "    matrix_01 + vector_02\n",
    "except ValueError as error : \n",
    "    print(f'>> AN ERROR OCCURRED. ERROR MESSAGE IS \"{error}\".')"
   ]
  },
  {
   "cell_type": "markdown",
   "metadata": {},
   "source": [
    "#### 01.4. **행렬-행렬 합**\n",
    "#### matrix_01 $ \\; = \\begin{bmatrix} 1&3&-5 \\\\ 2&0&-4 \\\\ 3&2&1 \\end{bmatrix}, \\; $ matrix_02 $ \\; = \\begin{bmatrix} 3&0&2 \\\\ 2&0&0 \\\\ 1.1&-3&6.5 \\end{bmatrix}, \\; $ matrix_01 $ + $ matrix_02 $ = ? $"
   ]
  },
  {
   "cell_type": "code",
   "execution_count": 7,
   "metadata": {},
   "outputs": [
    {
     "data": {
      "text/plain": [
       "array([[ 3. ,  0. ,  2. ],\n",
       "       [ 2. ,  0. ,  0. ],\n",
       "       [ 1.1, -3. ,  6.5]])"
      ]
     },
     "execution_count": 7,
     "metadata": {},
     "output_type": "execute_result"
    }
   ],
   "source": [
    "#(1) Define `matrix_02`\n",
    "matrix_02 = np.array(object=[[3, 0, 2], [2, 0, 0], [1.1, -3, 6.5]])\n",
    "\n",
    "#(2) Print `matrix_02`\n",
    "matrix_02"
   ]
  },
  {
   "cell_type": "code",
   "execution_count": 8,
   "metadata": {},
   "outputs": [
    {
     "data": {
      "text/plain": [
       "array([[ 4. ,  3. , -3. ],\n",
       "       [ 4. ,  0. , -4. ],\n",
       "       [ 4.1, -1. ,  7.5]])"
      ]
     },
     "execution_count": 8,
     "metadata": {},
     "output_type": "execute_result"
    }
   ],
   "source": [
    "#(3) Print `matrix_01` + `matrix_02`\n",
    "matrix_01 + matrix_02"
   ]
  },
  {
   "cell_type": "markdown",
   "metadata": {},
   "source": [
    "## 02. **배열의 곱**"
   ]
  },
  {
   "cell_type": "markdown",
   "metadata": {},
   "source": [
    "#### 02.1. **행렬-스칼라 곱**\n",
    "#### matrix_01 $ \\; = \\begin{bmatrix} 1&3&-5 \\\\ 2&0&-4 \\\\ 3&2&1 \\end{bmatrix}, \\; 3 \\times{} $ matrix_01 $ = ? $"
   ]
  },
  {
   "cell_type": "code",
   "execution_count": 9,
   "metadata": {},
   "outputs": [
    {
     "data": {
      "text/plain": [
       "array([[  3,   9, -15],\n",
       "       [  6,   0, -12],\n",
       "       [  9,   6,   3]], dtype=int64)"
      ]
     },
     "execution_count": 9,
     "metadata": {},
     "output_type": "execute_result"
    }
   ],
   "source": [
    "#(1) Print 3 * `matrix_01`\n",
    "3 * matrix_01"
   ]
  },
  {
   "cell_type": "markdown",
   "metadata": {},
   "source": [
    "#### 02.3. **행렬-벡터 곱 : `np.matmul()` or `@`**\n",
    "#### matrix_01 $ \\; = \\begin{bmatrix} 1&3&-5 \\\\ 2&0&-4 \\\\ 3&2&1 \\end{bmatrix}, \\; $ vector_01 $ \\; = \\begin{bmatrix} -3&2&0 \\end{bmatrix}, \\; $ vector_01 $ \\times{} $ matrix_01 $ = ? $"
   ]
  },
  {
   "cell_type": "code",
   "execution_count": 10,
   "metadata": {},
   "outputs": [
    {
     "data": {
      "text/plain": [
       "array([ 1, -9,  7], dtype=int64)"
      ]
     },
     "execution_count": 10,
     "metadata": {},
     "output_type": "execute_result"
    }
   ],
   "source": [
    "#(1) Print `vector_01` * `matrix_01`\n",
    "vector_01 @ matrix_01"
   ]
  },
  {
   "cell_type": "code",
   "execution_count": 11,
   "metadata": {},
   "outputs": [
    {
     "data": {
      "text/plain": [
       "array([ 1, -9,  7], dtype=int64)"
      ]
     },
     "execution_count": 11,
     "metadata": {},
     "output_type": "execute_result"
    }
   ],
   "source": [
    "#(2) Print `vector_01` * `matrix_01`\n",
    "np.matmul(vector_01, matrix_01)"
   ]
  },
  {
   "cell_type": "markdown",
   "metadata": {},
   "source": [
    "#### 02.3. **행렬-행렬 곱 : `np.matmul()` or `@`**\n",
    "#### matrix_01 $ \\; = \\begin{bmatrix} 1&3&-5 \\\\ 2&0&-4 \\\\ 3&2&1 \\end{bmatrix}, \\; $ matrix_02 $ \\; = \\begin{bmatrix} 3&0&2 \\\\ 2&0&0 \\\\ 1.1&-3&6.5 \\end{bmatrix}, \\; $ matrix_01 $ \\times() $ matrix_02 $ = ? $"
   ]
  },
  {
   "cell_type": "code",
   "execution_count": 12,
   "metadata": {},
   "outputs": [
    {
     "data": {
      "text/plain": [
       "array([[  3.5,  15. , -30.5],\n",
       "       [  1.6,  12. , -22. ],\n",
       "       [ 14.1,  -3. ,  12.5]])"
      ]
     },
     "execution_count": 12,
     "metadata": {},
     "output_type": "execute_result"
    }
   ],
   "source": [
    "#(1) Print `matrix_01` @ `matrix_02``\n",
    "matrix_01 @ matrix_02"
   ]
  },
  {
   "cell_type": "code",
   "execution_count": 13,
   "metadata": {},
   "outputs": [
    {
     "data": {
      "text/plain": [
       "array([[  3.5,  15. , -30.5],\n",
       "       [  1.6,  12. , -22. ],\n",
       "       [ 14.1,  -3. ,  12.5]])"
      ]
     },
     "execution_count": 13,
     "metadata": {},
     "output_type": "execute_result"
    }
   ],
   "source": [
    "#(2) Print `matrix_01` @ `matrix_02``\n",
    "np.matmul(matrix_01, matrix_02)"
   ]
  },
  {
   "cell_type": "markdown",
   "metadata": {},
   "source": [
    "#### **(PLUS)** 브로드캐스팅을 이용할 경우"
   ]
  },
  {
   "cell_type": "code",
   "execution_count": 14,
   "metadata": {},
   "outputs": [
    {
     "data": {
      "text/plain": [
       "array([[  3. ,   0. , -10. ],\n",
       "       [  4. ,   0. ,  -0. ],\n",
       "       [  3.3,  -6. ,   6.5]])"
      ]
     },
     "execution_count": 14,
     "metadata": {},
     "output_type": "execute_result"
    }
   ],
   "source": [
    "#(1) Print `matrix_01` * `matrix_02`\n",
    "matrix_01 * matrix_02"
   ]
  },
  {
   "cell_type": "markdown",
   "metadata": {},
   "source": [
    "## 03. **배열의 기타 연산**"
   ]
  },
  {
   "cell_type": "markdown",
   "metadata": {},
   "source": [
    "#### 03.1. **내적(Inner product) : `np.vdot()`**\n",
    "#### matrix_01 $ \\; = \\begin{bmatrix} 1&3&-5 \\\\ 2&0&-4 \\\\ 3&2&1 \\end{bmatrix} = \\begin{bmatrix} a_{11}&a_{12}&a_{13} \\\\ a_{21}&a_{22}&a_{23} \\\\ a_{31}&a_{32}&a_{33} \\end{bmatrix}, \\; $ matrix_02 $ \\; = \\begin{bmatrix} 3&0&2 \\\\ 2&0&0 \\\\ 1.1&-3&6.5 \\end{bmatrix} = \\begin{bmatrix} b_{11}&b_{12}&b_{13} \\\\ b_{21}&b_{22}&b_{23} \\\\ b_{31}&b_{32}&b_{33} \\end{bmatrix} $\n",
    "#### $ \\sum{}_{i=1}^{3}\\sum{}_{k=1}^{3} a_{ik}b_{ik} = ? $"
   ]
  },
  {
   "cell_type": "code",
   "execution_count": 15,
   "metadata": {},
   "outputs": [
    {
     "data": {
      "text/plain": [
       "0.8000000000000007"
      ]
     },
     "execution_count": 15,
     "metadata": {},
     "output_type": "execute_result"
    }
   ],
   "source": [
    "#(1) Print inner product of `matrix_01` and `matrix_02`\n",
    "np.vdot(matrix_01, matrix_02)"
   ]
  },
  {
   "cell_type": "markdown",
   "metadata": {},
   "source": [
    "#### 03.2. **외적-벡터곱(Cross product) : `np.cross()`**\n",
    "#### vector_01 $ \\; = \\begin{bmatrix} -3&2&0 \\end{bmatrix}, \\; $ vector_03 $ \\; = \\begin{bmatrix} 0&8&2 \\end{bmatrix}, \\; $ vector_01 $ \\times{} $ vector_03 $ = ? $"
   ]
  },
  {
   "cell_type": "code",
   "execution_count": 16,
   "metadata": {},
   "outputs": [
    {
     "data": {
      "text/plain": [
       "array([0, 8, 2])"
      ]
     },
     "execution_count": 16,
     "metadata": {},
     "output_type": "execute_result"
    }
   ],
   "source": [
    "#(1) Define `vector_03`\n",
    "vector_03 = np.array(object=[0, 8, 2])\n",
    "\n",
    "#(2) Print `vector_03`\n",
    "vector_03"
   ]
  },
  {
   "cell_type": "code",
   "execution_count": 17,
   "metadata": {},
   "outputs": [
    {
     "data": {
      "text/plain": [
       "array([  0,   0, -11], dtype=int64)"
      ]
     },
     "execution_count": 17,
     "metadata": {},
     "output_type": "execute_result"
    }
   ],
   "source": [
    "#(3) Print cross-product of `vector_01` and `vector_02`\n",
    "np.cross(a=vector_01, b=vector_02)"
   ]
  },
  {
   "cell_type": "markdown",
   "metadata": {},
   "source": [
    "#### 03.3. **외적-텐서곱(Outer Product) : `np.outer()`**\n",
    "#### vector_01 $ \\; = \\begin{bmatrix} -3&2&0 \\end{bmatrix}, \\; $ vector_03 $ \\; = \\begin{bmatrix} 0&8&2 \\end{bmatrix}, \\; $ vector_01 $ \\otimes{} $ vector_03 $ = ? $"
   ]
  },
  {
   "cell_type": "code",
   "execution_count": 18,
   "metadata": {},
   "outputs": [
    {
     "data": {
      "text/plain": [
       "array([[-3, -9],\n",
       "       [ 2,  6],\n",
       "       [ 0,  0]], dtype=int64)"
      ]
     },
     "execution_count": 18,
     "metadata": {},
     "output_type": "execute_result"
    }
   ],
   "source": [
    "#(1) Print outer-product of `vector_01` and `vector_02`\n",
    "np.outer(a=vector_01, b=vector_02)"
   ]
  },
  {
   "cell_type": "markdown",
   "metadata": {},
   "source": [
    "## 04. **벡터의 길이 ; 놈(Norm)**"
   ]
  },
  {
   "cell_type": "markdown",
   "metadata": {},
   "source": [
    "#### 04.1. **맨하탄 놈(Manhattan norm); L1 놈**\n",
    "#### L1 Norm $ \\; = \\lVert{} \\textbf{x} \\rVert{}_{1} = \\sum{}_{i=1}^{n} |\\textbf{x}_{i} |, \\; \\lVert{} \\text{vector\\_01} \\rVert{}_{1} = ? $"
   ]
  },
  {
   "cell_type": "code",
   "execution_count": 19,
   "metadata": {},
   "outputs": [
    {
     "data": {
      "text/plain": [
       "5.0"
      ]
     },
     "execution_count": 19,
     "metadata": {},
     "output_type": "execute_result"
    }
   ],
   "source": [
    "#(1) Print l1-norm of `vector_01`\n",
    "np.linalg.norm(x=vector_01, ord=1)"
   ]
  },
  {
   "cell_type": "markdown",
   "metadata": {},
   "source": [
    "#### 04.2. **유클라디안 놈(Euclidean); L2 놈**\n",
    "#### L2 Norm $ \\; = \\lVert{} \\textbf{x} \\rVert{}_{2} = \\sum{}_{i=1}^{n} |\\textbf{x}_{i} |, \\; \\lVert{} \\text{vector\\_01} \\rVert{}_{2} = ? $"
   ]
  },
  {
   "cell_type": "code",
   "execution_count": 20,
   "metadata": {},
   "outputs": [
    {
     "data": {
      "text/plain": [
       "3.605551275463989"
      ]
     },
     "execution_count": 20,
     "metadata": {},
     "output_type": "execute_result"
    }
   ],
   "source": [
    "#(2) Print l2-norm of `vector_01`\n",
    "np.linalg.norm(x=vector_01, ord=2)"
   ]
  }
 ],
 "metadata": {
  "kernelspec": {
   "display_name": "ML_SKL",
   "language": "python",
   "name": "python3"
  },
  "language_info": {
   "codemirror_mode": {
    "name": "ipython",
    "version": 3
   },
   "file_extension": ".py",
   "mimetype": "text/x-python",
   "name": "python",
   "nbconvert_exporter": "python",
   "pygments_lexer": "ipython3",
   "version": "3.8.12"
  }
 },
 "nbformat": 4,
 "nbformat_minor": 2
}
