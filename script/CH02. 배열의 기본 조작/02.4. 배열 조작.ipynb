{
 "cells": [
  {
   "cell_type": "markdown",
   "metadata": {},
   "source": [
    "## CH2.4. **배열 조작**"
   ]
  },
  {
   "cell_type": "markdown",
   "metadata": {},
   "source": [
    "## 00. **SET WORK ENVORINMENT**"
   ]
  },
  {
   "cell_type": "markdown",
   "metadata": {},
   "source": [
    "#### 00.1. **IMPORT PACKAGES AND SET OPTIONS**"
   ]
  },
  {
   "cell_type": "code",
   "execution_count": 1,
   "metadata": {},
   "outputs": [],
   "source": [
    "import numpy as np"
   ]
  },
  {
   "cell_type": "markdown",
   "metadata": {},
   "source": [
    "<b></b>"
   ]
  },
  {
   "cell_type": "markdown",
   "metadata": {},
   "source": [
    "## 01. **배열 복사**"
   ]
  },
  {
   "cell_type": "markdown",
   "metadata": {},
   "source": [
    "#### 01.1. **배열 복사 : `.copy()`**\n",
    "#### matrix_01 $ \\; = \\begin{bmatrix} 1&2&3 \\\\ 2&3&1 \\\\ 3&4&6 \\end{bmatrix}, \\; $ matrix_02 $ \\; = $ matrix_01 $ \\; = \\begin{bmatrix} 1&2&3 \\\\ 2&3&1 \\\\ 3&4&6 \\end{bmatrix} $"
   ]
  },
  {
   "cell_type": "code",
   "execution_count": 2,
   "metadata": {},
   "outputs": [
    {
     "data": {
      "text/plain": [
       "array([[1, 2, 3],\n",
       "       [2, 3, 1],\n",
       "       [3, 4, 6]], dtype=int64)"
      ]
     },
     "execution_count": 2,
     "metadata": {},
     "output_type": "execute_result"
    }
   ],
   "source": [
    "#(1) Define `matrix_01`\n",
    "matrix_01 = np.array(object=[[1, 2, 3], [2, 3, 1], [3, 4, 6]], dtype=np.int64)\n",
    "\n",
    "#(2) Print `matrix_01`\n",
    "matrix_01"
   ]
  },
  {
   "cell_type": "code",
   "execution_count": 3,
   "metadata": {},
   "outputs": [
    {
     "data": {
      "text/plain": [
       "array([[1, 2, 3],\n",
       "       [2, 3, 1],\n",
       "       [3, 4, 6]], dtype=int64)"
      ]
     },
     "execution_count": 3,
     "metadata": {},
     "output_type": "execute_result"
    }
   ],
   "source": [
    "#(3) Copy `matrix_01`\n",
    "matrix_02 = matrix_01.copy()\n",
    "\n",
    "#(4) Print `matrix_02`\n",
    "matrix_02"
   ]
  },
  {
   "cell_type": "markdown",
   "metadata": {},
   "source": [
    "#### **(PLUS)** 바로 변수를 할당하는 경우, 같은 메모리(공간)을 참조하기 때문에 영향을 받음"
   ]
  },
  {
   "cell_type": "code",
   "execution_count": 4,
   "metadata": {},
   "outputs": [
    {
     "data": {
      "text/plain": [
       "array([[1, 2, 3],\n",
       "       [2, 3, 1],\n",
       "       [3, 4, 6]], dtype=int64)"
      ]
     },
     "execution_count": 4,
     "metadata": {},
     "output_type": "execute_result"
    }
   ],
   "source": [
    "#(1) Define `matrix_03`\n",
    "matrix_03 = matrix_01 \n",
    "\n",
    "#(2) Print `matrix_03`\n",
    "matrix_03"
   ]
  },
  {
   "cell_type": "code",
   "execution_count": 5,
   "metadata": {},
   "outputs": [
    {
     "data": {
      "text/plain": [
       "array([[32,  2,  3],\n",
       "       [ 2,  3,  1],\n",
       "       [ 3,  4,  6]], dtype=int64)"
      ]
     },
     "execution_count": 5,
     "metadata": {},
     "output_type": "execute_result"
    }
   ],
   "source": [
    "#(3) Modify entry of `matrix_03` \n",
    "matrix_03[0, 0] = 32\n",
    "\n",
    "#(4) Print `matrix_03`\n",
    "matrix_03"
   ]
  },
  {
   "cell_type": "code",
   "execution_count": 6,
   "metadata": {},
   "outputs": [
    {
     "data": {
      "text/plain": [
       "array([[32,  2,  3],\n",
       "       [ 2,  3,  1],\n",
       "       [ 3,  4,  6]], dtype=int64)"
      ]
     },
     "execution_count": 6,
     "metadata": {},
     "output_type": "execute_result"
    }
   ],
   "source": [
    "#(5) Print `matrix_01`\n",
    "matrix_01"
   ]
  },
  {
   "cell_type": "markdown",
   "metadata": {},
   "source": [
    "## 02. **배열 형태 변환**"
   ]
  },
  {
   "cell_type": "markdown",
   "metadata": {},
   "source": [
    "#### 02.1. **배열 n차원 변환 : `np.reshape()`**\n",
    "#### matrix_04 $ \\; = \\begin{bmatrix} 1&2&3&2 \\\\ 2&3&1&4 \\\\ 3&4&6&8 \\end{bmatrix}, \\; $ matrix_05 $ \\; = \\begin{bmatrix} 1&2&3&2&2&3 \\\\ 1&4&3&4&6&8 \\end{bmatrix} $"
   ]
  },
  {
   "cell_type": "code",
   "execution_count": 7,
   "metadata": {},
   "outputs": [
    {
     "data": {
      "text/plain": [
       "array([[1, 2, 3, 2],\n",
       "       [2, 3, 1, 4],\n",
       "       [3, 4, 6, 8]], dtype=int64)"
      ]
     },
     "execution_count": 7,
     "metadata": {},
     "output_type": "execute_result"
    }
   ],
   "source": [
    "#(1) Define `matrix_04`\n",
    "matrix_04 = np.array(object=[[1, 2, 3, 2], [2, 3, 1, 4], [3, 4, 6, 8]], dtype=np.int64)\n",
    "\n",
    "#(2) Print `matrix_04`\n",
    "matrix_04"
   ]
  },
  {
   "cell_type": "code",
   "execution_count": 8,
   "metadata": {},
   "outputs": [
    {
     "data": {
      "text/plain": [
       "array([[1, 2, 3, 2, 2, 3],\n",
       "       [1, 4, 3, 4, 6, 8]], dtype=int64)"
      ]
     },
     "execution_count": 8,
     "metadata": {},
     "output_type": "execute_result"
    }
   ],
   "source": [
    "#(3) Define `matrix_05`\n",
    "matrix_05 = np.reshape(a=matrix_04.copy(), newshape=(2, 6))\n",
    "\n",
    "#(4) Print `matrix_05`\n",
    "matrix_05"
   ]
  },
  {
   "cell_type": "markdown",
   "metadata": {},
   "source": [
    "#### 02.2. **배열 전치 : `.transpose()`**\n",
    "#### matrix_04 $ \\; = \\begin{bmatrix} 1&2&3&2 \\\\ 2&3&1&4 \\\\ 3&4&6&8 \\end{bmatrix}, \\; $ matrix_06 $ \\; = $ matrix_04 $^{T} \\; = \\begin{bmatrix} 1&2&3 \\\\ 2&3&4 \\\\ 3&1&6 \\\\ 2&4&8 \\end{bmatrix} $"
   ]
  },
  {
   "cell_type": "code",
   "execution_count": 9,
   "metadata": {},
   "outputs": [
    {
     "data": {
      "text/plain": [
       "array([[1, 2, 3],\n",
       "       [2, 3, 4],\n",
       "       [3, 1, 6],\n",
       "       [2, 4, 8]], dtype=int64)"
      ]
     },
     "execution_count": 9,
     "metadata": {},
     "output_type": "execute_result"
    }
   ],
   "source": [
    "#(1) Transpose `matrix_04`\n",
    "matrix_06 = matrix_04.transpose()\n",
    "\n",
    "#(2) Print `matrix_05`\n",
    "matrix_06"
   ]
  },
  {
   "cell_type": "markdown",
   "metadata": {},
   "source": [
    "#### 02.3. **1차원 벡터 변환 : `.flatten()`**\n",
    "#### matrix_04 $ \\; = \\begin{bmatrix} 1&2&3&2 \\\\ 2&3&1&4 \\\\ 3&4&6&8 \\end{bmatrix}, \\; $ vector_01 $ \\; = \\begin{bmatrix} 1&2&3&2&2&3&\\cdots{}&6&8 \\end{bmatrix} $"
   ]
  },
  {
   "cell_type": "code",
   "execution_count": 10,
   "metadata": {},
   "outputs": [
    {
     "data": {
      "text/plain": [
       "array([1, 2, 3, 2, 2, 3, 1, 4, 3, 4, 6, 8], dtype=int64)"
      ]
     },
     "execution_count": 10,
     "metadata": {},
     "output_type": "execute_result"
    }
   ],
   "source": [
    "#(1) Define `vector_01`\n",
    "vector_01 = matrix_04.flatten()\n",
    "\n",
    "#(2) Print `vector_01`\n",
    "vector_01"
   ]
  },
  {
   "cell_type": "markdown",
   "metadata": {},
   "source": [
    "#### **(PLUS)** `.flatten()` 메서드는 `np.ravel()` 함수와 동일한 결과를 반환함"
   ]
  },
  {
   "cell_type": "code",
   "execution_count": 11,
   "metadata": {},
   "outputs": [
    {
     "data": {
      "text/plain": [
       "array([1, 2, 3, 2, 2, 3, 1, 4, 3, 4, 6, 8], dtype=int64)"
      ]
     },
     "execution_count": 11,
     "metadata": {},
     "output_type": "execute_result"
    }
   ],
   "source": [
    "#(1) Define `vector_02`\n",
    "vector_02 = np.ravel(a=matrix_04)\n",
    "\n",
    "#(2) Print `vector_02`\n",
    "vector_02"
   ]
  },
  {
   "cell_type": "markdown",
   "metadata": {},
   "source": [
    "## 02. **대각 성분 조작**"
   ]
  },
  {
   "cell_type": "markdown",
   "metadata": {},
   "source": [
    "#### 02.1. **대각 성분 반환 : `np.diag()`**\n",
    "#### matrix_04 $ \\; = \\begin{bmatrix} 1&2&3&2 \\\\ 2&3&1&4 \\\\ 3&4&6&8 \\end{bmatrix}, \\; \\begin{bmatrix} a_{11} \\\\ a_{22} \\\\ a_{23} \\end{bmatrix} = ? $"
   ]
  },
  {
   "cell_type": "code",
   "execution_count": 12,
   "metadata": {},
   "outputs": [
    {
     "data": {
      "text/plain": [
       "array([1, 3, 6], dtype=int64)"
      ]
     },
     "execution_count": 12,
     "metadata": {},
     "output_type": "execute_result"
    }
   ],
   "source": [
    "#(1) Print diagonal entry of `matrix_04` \n",
    "np.diag(v=matrix_04, k=0)"
   ]
  },
  {
   "cell_type": "markdown",
   "metadata": {},
   "source": [
    "#### 02.2. **대각 성분 합 반환 : `np.trace()`**\n",
    "#### matrix_04 $ \\; = \\begin{bmatrix} 1&2&3&2 \\\\ 2&3&1&4 \\\\ 3&4&6&8 \\end{bmatrix}, \\; a_{11}+a_{22}+a_{23} = ? $"
   ]
  },
  {
   "cell_type": "code",
   "execution_count": 13,
   "metadata": {},
   "outputs": [
    {
     "data": {
      "text/plain": [
       "10"
      ]
     },
     "execution_count": 13,
     "metadata": {},
     "output_type": "execute_result"
    }
   ],
   "source": [
    "#(1) Print diagonal entry sum of `matrix_04`\n",
    "np.trace(a=matrix_04)"
   ]
  },
  {
   "cell_type": "markdown",
   "metadata": {},
   "source": [
    "#### 02.3. **정방대각행렬 생성 : `np.diagflat()`**\n",
    "#### matrix_07 = $ \\begin{bmatrix} 1&0&0&0 \\\\ 0&2&0&0 \\\\ 0&0&6&0 \\\\ 0&0&0&7 \\end{bmatrix} $"
   ]
  },
  {
   "cell_type": "code",
   "execution_count": 14,
   "metadata": {},
   "outputs": [
    {
     "data": {
      "text/plain": [
       "array([[1, 0, 0, 0],\n",
       "       [0, 2, 0, 0],\n",
       "       [0, 0, 6, 0],\n",
       "       [0, 0, 0, 7]])"
      ]
     },
     "execution_count": 14,
     "metadata": {},
     "output_type": "execute_result"
    }
   ],
   "source": [
    "#(1) Define `matrix_07`\n",
    "matrix_07 = np.diagflat(v=[1, 2, 6, 7], k=0)\n",
    "\n",
    "#(2) Print `matrix_07`\n",
    "matrix_07"
   ]
  },
  {
   "cell_type": "markdown",
   "metadata": {},
   "source": [
    "## 04. **배열 결합**"
   ]
  },
  {
   "cell_type": "markdown",
   "metadata": {},
   "source": [
    "#### 04.1. **수평 배열 결합 : `np.hstack()`**\n",
    "#### matrix_08 $ \\; = \\begin{bmatrix} \\text{matrix\\_01} & \\text{matrix\\_02} \\end{bmatrix} $"
   ]
  },
  {
   "cell_type": "code",
   "execution_count": 15,
   "metadata": {},
   "outputs": [
    {
     "data": {
      "text/plain": [
       "array([[32,  2,  3,  1,  2,  3],\n",
       "       [ 2,  3,  1,  2,  3,  1],\n",
       "       [ 3,  4,  6,  3,  4,  6]], dtype=int64)"
      ]
     },
     "execution_count": 15,
     "metadata": {},
     "output_type": "execute_result"
    }
   ],
   "source": [
    "#(1) Define `matrix_08`\n",
    "matrix_08 = np.hstack(tup=(matrix_01, matrix_02))\n",
    "\n",
    "#(2) Print `matrix_08`\n",
    "matrix_08"
   ]
  },
  {
   "cell_type": "markdown",
   "metadata": {},
   "source": [
    "#### 04.2. **수직 배열 결합 : `np.vstack()`**\n",
    "#### matrix_09 $ \\; = \\begin{bmatrix} \\text{matrix\\_01} \\\\ \\text{matrix\\_02} \\end{bmatrix} $"
   ]
  },
  {
   "cell_type": "code",
   "execution_count": 16,
   "metadata": {},
   "outputs": [
    {
     "data": {
      "text/plain": [
       "array([[32,  2,  3],\n",
       "       [ 2,  3,  1],\n",
       "       [ 3,  4,  6],\n",
       "       [ 1,  2,  3],\n",
       "       [ 2,  3,  1],\n",
       "       [ 3,  4,  6]], dtype=int64)"
      ]
     },
     "execution_count": 16,
     "metadata": {},
     "output_type": "execute_result"
    }
   ],
   "source": [
    "#(1) Define `matrix_09`\n",
    "matrix_09 = np.vstack(tup=(matrix_01, matrix_02))\n",
    "\n",
    "#(2) Print `matrix_09`\n",
    "matrix_09"
   ]
  },
  {
   "cell_type": "markdown",
   "metadata": {},
   "source": [
    "## 05. **배열 값 반환**"
   ]
  },
  {
   "cell_type": "markdown",
   "metadata": {},
   "source": [
    "#### 05.1. **실수부반환 : `.real`**\n",
    "#### matrix_10 = $ \\begin{bmatrix} 1+2i&3&-4i \\\\ 1-3j&2&0 \\\\ 0&i&3+6i \\end{bmatrix}, \\; \\_ $"
   ]
  },
  {
   "cell_type": "code",
   "execution_count": 17,
   "metadata": {},
   "outputs": [
    {
     "data": {
      "text/plain": [
       "array([[ 1.+2.j,  3.+0.j, -0.-4.j],\n",
       "       [ 1.-3.j,  2.+0.j,  0.+0.j],\n",
       "       [ 0.+0.j,  0.+1.j,  3.+6.j]])"
      ]
     },
     "execution_count": 17,
     "metadata": {},
     "output_type": "execute_result"
    }
   ],
   "source": [
    "#(1) Define `matrix_10`\n",
    "matrix_10 = np.array(object=[[1+2j, 3, -4j], [1-3j, 2, 0], [0, 1j, 3+6j]], dtype=np.complex128)\n",
    "\n",
    "#(2) Print `matrix_10`\n",
    "matrix_10"
   ]
  },
  {
   "cell_type": "code",
   "execution_count": 18,
   "metadata": {},
   "outputs": [
    {
     "data": {
      "text/plain": [
       "array([[ 1.,  3., -0.],\n",
       "       [ 1.,  2.,  0.],\n",
       "       [ 0.,  0.,  3.]])"
      ]
     },
     "execution_count": 18,
     "metadata": {},
     "output_type": "execute_result"
    }
   ],
   "source": [
    "#(3) Print real Number of `matrix_10`\n",
    "matrix_10.real"
   ]
  },
  {
   "cell_type": "markdown",
   "metadata": {},
   "source": [
    "#### 05.2. **허수부 반환 : `.imag`**\n",
    "#### matrix_10 = $ \\begin{bmatrix} 1+2i&3&-4i \\\\ 1-3j&2&0 \\\\ 0&i&3+6i \\end{bmatrix}, \\; \\_ $"
   ]
  },
  {
   "cell_type": "code",
   "execution_count": 19,
   "metadata": {},
   "outputs": [
    {
     "data": {
      "text/plain": [
       "array([[ 2.,  0., -4.],\n",
       "       [-3.,  0.,  0.],\n",
       "       [ 0.,  1.,  6.]])"
      ]
     },
     "execution_count": 19,
     "metadata": {},
     "output_type": "execute_result"
    }
   ],
   "source": [
    "#(1) Print complex number of `matrix_10`\n",
    "matrix_10.imag"
   ]
  },
  {
   "cell_type": "markdown",
   "metadata": {},
   "source": [
    "#### 05.3. **허수부 복소켤레 반환 : `.conjugate()`**\n",
    "#### matrix_10 = $ \\begin{bmatrix} 1+2i&3&-4i \\\\ 1-3j&2&0 \\\\ 0&i&3+6i \\end{bmatrix}, \\; \\_ $"
   ]
  },
  {
   "cell_type": "code",
   "execution_count": 21,
   "metadata": {},
   "outputs": [
    {
     "data": {
      "text/plain": [
       "array([[ 1.-2.j,  3.-0.j, -0.+4.j],\n",
       "       [ 1.+3.j,  2.-0.j,  0.-0.j],\n",
       "       [ 0.-0.j,  0.-1.j,  3.-6.j]])"
      ]
     },
     "execution_count": 21,
     "metadata": {},
     "output_type": "execute_result"
    }
   ],
   "source": [
    "#(1) Print complex conjugate of `matrix_10`\n",
    "matrix_10.conjugate()"
   ]
  }
 ],
 "metadata": {
  "kernelspec": {
   "display_name": "ML_SKL",
   "language": "python",
   "name": "python3"
  },
  "language_info": {
   "codemirror_mode": {
    "name": "ipython",
    "version": 3
   },
   "file_extension": ".py",
   "mimetype": "text/x-python",
   "name": "python",
   "nbconvert_exporter": "python",
   "pygments_lexer": "ipython3",
   "version": "3.8.12"
  }
 },
 "nbformat": 4,
 "nbformat_minor": 2
}
