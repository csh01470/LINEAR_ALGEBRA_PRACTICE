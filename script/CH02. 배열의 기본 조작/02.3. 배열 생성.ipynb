{
 "cells": [
  {
   "cell_type": "markdown",
   "metadata": {},
   "source": [
    "## CH2.3. **기본 배열 생성**"
   ]
  },
  {
   "cell_type": "markdown",
   "metadata": {},
   "source": [
    "## 00. **SET WORK ENVORINMENT**"
   ]
  },
  {
   "cell_type": "markdown",
   "metadata": {},
   "source": [
    "#### 00.1. **IMPORT PACKAGES AND SET OPTIONS**"
   ]
  },
  {
   "cell_type": "code",
   "execution_count": 1,
   "metadata": {},
   "outputs": [],
   "source": [
    "import numpy as np"
   ]
  },
  {
   "cell_type": "markdown",
   "metadata": {},
   "source": [
    "<b></b>"
   ]
  },
  {
   "cell_type": "markdown",
   "metadata": {},
   "source": [
    "## 01. **항등행렬 생성**"
   ]
  },
  {
   "cell_type": "markdown",
   "metadata": {},
   "source": [
    "#### 01.1. **정방항등행렬 생성 : `np.identity()`**\n",
    "#### matrix_01 $ \\; = \\begin{bmatrix} 1&0&0 \\\\ 0&1&0 \\\\ 0&0&1 \\end{bmatrix} $"
   ]
  },
  {
   "cell_type": "code",
   "execution_count": 2,
   "metadata": {},
   "outputs": [
    {
     "data": {
      "text/plain": [
       "array([[1, 0, 0],\n",
       "       [0, 1, 0],\n",
       "       [0, 0, 1]], dtype=int64)"
      ]
     },
     "execution_count": 2,
     "metadata": {},
     "output_type": "execute_result"
    }
   ],
   "source": [
    "#(1) Define `matrix_01`\n",
    "matrix_01 = np.identity(n=3, dtype=np.int64)\n",
    "\n",
    "#(2) Print `matrix_01`\n",
    "matrix_01"
   ]
  },
  {
   "cell_type": "markdown",
   "metadata": {},
   "source": [
    "#### 01.2. **단위항등행렬 생성 : `np.eye()`**\n",
    "#### matrix_02 $ \\; = \\begin{bmatrix} 1&0&0 \\\\ 0&1&0 \\\\ 0&0&1 \\end{bmatrix} $"
   ]
  },
  {
   "cell_type": "code",
   "execution_count": 3,
   "metadata": {},
   "outputs": [
    {
     "data": {
      "text/plain": [
       "array([[1, 0, 0],\n",
       "       [0, 1, 0],\n",
       "       [0, 0, 1]], dtype=int64)"
      ]
     },
     "execution_count": 3,
     "metadata": {},
     "output_type": "execute_result"
    }
   ],
   "source": [
    "#(1) Define `matrix_02`\n",
    "matrix_02 = np.eye(N=3, M=3, dtype=np.int64)\n",
    "\n",
    "#(2) Print `matrix_02`\n",
    "matrix_02"
   ]
  },
  {
   "cell_type": "markdown",
   "metadata": {},
   "source": [
    "#### matrix_03 $ \\; = \\begin{bmatrix} 0&1&0&0 \\\\ 0&0&1&0 \\\\ 0&0&0&1 \\end{bmatrix} $"
   ]
  },
  {
   "cell_type": "code",
   "execution_count": 4,
   "metadata": {},
   "outputs": [
    {
     "data": {
      "text/plain": [
       "array([[0, 1, 0, 0],\n",
       "       [0, 0, 1, 0],\n",
       "       [0, 0, 0, 1]])"
      ]
     },
     "execution_count": 4,
     "metadata": {},
     "output_type": "execute_result"
    }
   ],
   "source": [
    "#(1) Define `matrix_03`\n",
    "matrix_03 = np.eye(N=3, M=4, k=1, dtype=np.int32)\n",
    "\n",
    "#(2) Print `matrix_03`\n",
    "matrix_03"
   ]
  },
  {
   "cell_type": "markdown",
   "metadata": {},
   "source": [
    "**(MEMO)** 인자 `K`는 band id라고 정의함"
   ]
  },
  {
   "cell_type": "markdown",
   "metadata": {},
   "source": [
    "## 02. **삼각행렬 생성**"
   ]
  },
  {
   "cell_type": "markdown",
   "metadata": {},
   "source": [
    "#### 02.1. **단위 하삼각행렬 생성 : `np.tri()`**\n",
    "#### matrix_04 $ \\; = \\begin{bmatrix} 1&0&0 \\\\ 1&1&0 \\\\ 1&1&1 \\end{bmatrix} $"
   ]
  },
  {
   "cell_type": "code",
   "execution_count": 5,
   "metadata": {},
   "outputs": [
    {
     "data": {
      "text/plain": [
       "array([[1, 0, 0],\n",
       "       [1, 1, 0],\n",
       "       [1, 1, 1]], dtype=int64)"
      ]
     },
     "execution_count": 5,
     "metadata": {},
     "output_type": "execute_result"
    }
   ],
   "source": [
    "#(1) Define `matrix_04`\n",
    "matrix_04 = np.tri(N=3, M=3, k=0, dtype=np.int64)\n",
    "\n",
    "#(2) Print `matrix_04`\n",
    "matrix_04"
   ]
  },
  {
   "cell_type": "markdown",
   "metadata": {},
   "source": [
    "#### 02.2. **기존 데이터 기반 하삼각행렬 생성 : `np.tril()`**\n",
    "#### matrix_05 $ \\; = \\begin{bmatrix} 1&3&2&6 \\\\ 3&2.5&4&-3 \\\\ 1&-3.7&11&-2 \\end{bmatrix}, \\; $ matrix_06 $ \\; = \\begin{bmatrix} 1&0&0&0 \\\\ 3&2.5&0&0 \\\\ 1&-3.7&11&0 \\end{bmatrix} $"
   ]
  },
  {
   "cell_type": "code",
   "execution_count": 6,
   "metadata": {},
   "outputs": [
    {
     "data": {
      "text/plain": [
       "array([[ 1. ,  3. ,  2. ,  6. ],\n",
       "       [ 3. ,  2.5,  4. , -3. ],\n",
       "       [ 1. , -3.7, 11. , -2. ]])"
      ]
     },
     "execution_count": 6,
     "metadata": {},
     "output_type": "execute_result"
    }
   ],
   "source": [
    "#(1) Define `matrix_05`\n",
    "matrix_05 = np.array(object=[[1, 3, 2, 6], [3, 2.5, 4, -3], [1, -3.7, 11, -2]])\n",
    "\n",
    "#(2) Print `matrix_05`\n",
    "matrix_05"
   ]
  },
  {
   "cell_type": "code",
   "execution_count": 7,
   "metadata": {},
   "outputs": [
    {
     "data": {
      "text/plain": [
       "array([[ 1. ,  0. ,  0. ,  0. ],\n",
       "       [ 3. ,  2.5,  0. ,  0. ],\n",
       "       [ 1. , -3.7, 11. ,  0. ]])"
      ]
     },
     "execution_count": 7,
     "metadata": {},
     "output_type": "execute_result"
    }
   ],
   "source": [
    "#(1) Define `matrix_06`\n",
    "matrix_06 = np.tril(m=matrix_05, k=0)\n",
    "\n",
    "#(2) Print `matrix_06`\n",
    "matrix_06"
   ]
  },
  {
   "cell_type": "markdown",
   "metadata": {},
   "source": [
    "#### 02.3. **기존 데이터 기반 상삼각행렬 생성 : `np.triu()`**\n",
    "#### matrix_05 $ \\; = \\begin{bmatrix} 1&3&2&6 \\\\ 3&2.5&4&-3 \\\\ 1&-3.7&11&-2 \\end{bmatrix}, \\; $ matrix_07 $ \\; = \\begin{bmatrix} 0&3&2&6 \\\\ 0&0&4&-3 \\\\ 0&0&0&-2 \\end{bmatrix} $"
   ]
  },
  {
   "cell_type": "code",
   "execution_count": 8,
   "metadata": {},
   "outputs": [
    {
     "data": {
      "text/plain": [
       "array([[ 0.,  3.,  2.,  6.],\n",
       "       [ 0.,  0.,  4., -3.],\n",
       "       [ 0.,  0.,  0., -2.]])"
      ]
     },
     "execution_count": 8,
     "metadata": {},
     "output_type": "execute_result"
    }
   ],
   "source": [
    "#(1) Define `matrix_07`\n",
    "matrix_07 = np.triu(m=matrix_05, k=1)\n",
    "\n",
    "#(2) Print `matrix_07`\n",
    "matrix_07"
   ]
  },
  {
   "cell_type": "markdown",
   "metadata": {},
   "source": [
    "## 03. **기타 행렬 생성**"
   ]
  },
  {
   "cell_type": "markdown",
   "metadata": {},
   "source": [
    "#### 03.1. **영행렬 생성 : `np.zeros()`**\n",
    "#### matrix_08 $ \\; = \\begin{bmatrix} 0&0&0&0 \\\\ 0&0&0&0 \\\\ 0&0&0&0 \\end{bmatrix} $"
   ]
  },
  {
   "cell_type": "code",
   "execution_count": 9,
   "metadata": {},
   "outputs": [
    {
     "data": {
      "text/plain": [
       "array([[0, 0, 0, 0],\n",
       "       [0, 0, 0, 0],\n",
       "       [0, 0, 0, 0]], dtype=int64)"
      ]
     },
     "execution_count": 9,
     "metadata": {},
     "output_type": "execute_result"
    }
   ],
   "source": [
    "#(1) Define `matrix_08`\n",
    "matrix_08 = np.zeros(shape=(3, 4), dtype=np.int64)\n",
    "\n",
    "#(2) Print `matrix_08`\n",
    "matrix_08"
   ]
  },
  {
   "cell_type": "markdown",
   "metadata": {},
   "source": [
    "#### 03.2. **모든 성분이 1인 행렬 생성 : `np.ones()`**\n",
    "#### matrix_09 $ \\; = \\begin{bmatrix} 1&1&1 \\\\ 1&1&1 \\\\ 1&1&1 \\end{bmatrix} $"
   ]
  },
  {
   "cell_type": "code",
   "execution_count": 10,
   "metadata": {},
   "outputs": [
    {
     "data": {
      "text/plain": [
       "array([[1, 1, 1],\n",
       "       [1, 1, 1],\n",
       "       [1, 1, 1]], dtype=int64)"
      ]
     },
     "execution_count": 10,
     "metadata": {},
     "output_type": "execute_result"
    }
   ],
   "source": [
    "#(1) Define `matrix_09`\n",
    "matrix_09 = np.ones(shape=(3, 3), dtype=np.int64)\n",
    "\n",
    "#(2) Print `matrix_09`\n",
    "matrix_09"
   ]
  },
  {
   "cell_type": "markdown",
   "metadata": {},
   "source": [
    "#### 03.3. **모든 성분이 특정 값인 행렬 생성 : `np.full()`**\n",
    "#### matrix_10 $ \\; = \\begin{bmatrix} 8&8&8&8&8 \\\\ 8&8&8&8&8 \\\\ 8&8&8&8&8 \\\\ 8&8&8&8&8 \\\\ 8&8&8&8&8 \\end{bmatrix} $"
   ]
  },
  {
   "cell_type": "code",
   "execution_count": 11,
   "metadata": {},
   "outputs": [
    {
     "data": {
      "text/plain": [
       "array([[8, 8, 8, 8, 8],\n",
       "       [8, 8, 8, 8, 8],\n",
       "       [8, 8, 8, 8, 8],\n",
       "       [8, 8, 8, 8, 8],\n",
       "       [8, 8, 8, 8, 8]], dtype=int64)"
      ]
     },
     "execution_count": 11,
     "metadata": {},
     "output_type": "execute_result"
    }
   ],
   "source": [
    "#(1) Define `matrix_10`\n",
    "matrix_10 = np.full(shape=(5, 5), fill_value=8, dtype=np.int64)\n",
    "\n",
    "#(2) Print `matrix_10`\n",
    "matrix_10"
   ]
  },
  {
   "cell_type": "markdown",
   "metadata": {},
   "source": [
    "## 04. **난수 기반 행렬 생성**"
   ]
  },
  {
   "cell_type": "markdown",
   "metadata": {},
   "source": [
    "#### 04.1. **균등분포를 따르는 정수인 행렬 생성 : `np.random.randint()`**\n",
    "#### matrix_11 $ \\; = \\begin{bmatrix} a_{11}&a_{12}&a_{13} \\\\ a_{21}&a_{22}&a_{23} \\\\ a_{31}&a_{32}&a_{33} \\end{bmatrix}, \\; a_{ik} \\in \\{ \\mathbb{Z} | 1 \\leqq \\mathbb{Z} \\leqq 10 \\}, \\; a_{ik} \\sim U(0, 10) $"
   ]
  },
  {
   "cell_type": "code",
   "execution_count": 12,
   "metadata": {},
   "outputs": [
    {
     "data": {
      "text/plain": [
       "array([[3, 1, 2],\n",
       "       [4, 2, 4],\n",
       "       [8, 7, 9]])"
      ]
     },
     "execution_count": 12,
     "metadata": {},
     "output_type": "execute_result"
    }
   ],
   "source": [
    "#(1) Define `matrix_11`\n",
    "matrix_11 = np.random.randint(low=1, high=10, size=(3,3))\n",
    "\n",
    "#(2) Print `matrix_11`\n",
    "matrix_11"
   ]
  },
  {
   "cell_type": "markdown",
   "metadata": {},
   "source": [
    "#### 04.2. **$ 0 $ 과 $ 1 $ 사이의 균등분포를 따르는 실수인 행렬 생성 : `np.random.rand()`**\n",
    "#### matrix_12 $ \\; = \\begin{bmatrix} a_{11}&a_{12}&a_{13} \\\\ a_{21}&a_{22}&a_{23} \\\\ a_{31}&a_{32}&a_{33} \\end{bmatrix}, \\; a_{ik} \\in \\{ \\mathbb{R} | 0 \\leqq \\mathbb{R} \\leqq 1 \\}, \\; a_{ik} \\sim U(0, 1) $"
   ]
  },
  {
   "cell_type": "code",
   "execution_count": 13,
   "metadata": {},
   "outputs": [
    {
     "data": {
      "text/plain": [
       "array([[0.32077954, 0.7863974 , 0.38489264],\n",
       "       [0.44107245, 0.29942582, 0.09202386],\n",
       "       [0.09819842, 0.810557  , 0.23210126]])"
      ]
     },
     "execution_count": 13,
     "metadata": {},
     "output_type": "execute_result"
    }
   ],
   "source": [
    "#(1) Define `matrix_12`\n",
    "matrix_12 = np.random.rand(3, 3)\n",
    "\n",
    "#(2) Print `matrix_12`\n",
    "matrix_12"
   ]
  },
  {
   "cell_type": "markdown",
   "metadata": {},
   "source": [
    "#### 04.3. **정규분포를 따르는 실수인 행렬 생성 : `np.random.normal()`**\n",
    "#### matrix_13 $ \\; = \\begin{bmatrix} a_{11}&a_{12}&a_{13} \\\\ a_{21}&a_{22}&a_{23} \\\\ a_{31}&a_{32}&a_{33} \\end{bmatrix}, \\; a_{ik} \\in \\{ \\mathbb{R} | 0 \\leqq \\mathbb{R} \\leqq 1 \\}, \\; a_{ik} \\sim N(\\mu{}, \\sigma{}^{2}) $"
   ]
  },
  {
   "cell_type": "code",
   "execution_count": 14,
   "metadata": {},
   "outputs": [
    {
     "data": {
      "text/plain": [
       "array([[ 0.41887723, -1.05082642,  1.06610084],\n",
       "       [ 1.15730673,  1.49393094,  0.76923846],\n",
       "       [-0.81604791, -1.13523085,  2.3068664 ]])"
      ]
     },
     "execution_count": 14,
     "metadata": {},
     "output_type": "execute_result"
    }
   ],
   "source": [
    "#(1) Define `matrix_13`\n",
    "matrix_13 = np.random.normal(loc=0, scale=1, size=(3,3))\n",
    "\n",
    "#(2) Print `matrix_13`\n",
    "matrix_13"
   ]
  },
  {
   "cell_type": "markdown",
   "metadata": {},
   "source": [
    "#### 04.4. **표준정규분포를 따르는 실수인 행렬 생성 : `np.random.randn()`**\n",
    "#### matrix_14 $ \\; = \\begin{bmatrix} a_{11}&a_{12}&a_{13} \\\\ a_{21}&a_{22}&a_{23} \\\\ a_{31}&a_{32}&a_{33} \\end{bmatrix}, \\; a_{ik} \\in \\{ \\mathbb{R} | 0 \\leqq \\mathbb{R} \\leqq 1 \\}, \\; a_{ik} \\sim Z(0, 1) $"
   ]
  },
  {
   "cell_type": "code",
   "execution_count": 15,
   "metadata": {},
   "outputs": [
    {
     "data": {
      "text/plain": [
       "array([[-0.85515739, -1.48063923,  0.37273011],\n",
       "       [-0.77476872, -1.63709762, -1.21583217],\n",
       "       [ 1.06417481,  0.99302683,  0.27619937]])"
      ]
     },
     "execution_count": 15,
     "metadata": {},
     "output_type": "execute_result"
    }
   ],
   "source": [
    "#(1) Define `matrix_14`\n",
    "matrix_14 = np.random.randn(3, 3)\n",
    "\n",
    "#(2) Print `matrix_14`\n",
    "matrix_14"
   ]
  }
 ],
 "metadata": {
  "kernelspec": {
   "display_name": "ML_SKL",
   "language": "python",
   "name": "python3"
  },
  "language_info": {
   "codemirror_mode": {
    "name": "ipython",
    "version": 3
   },
   "file_extension": ".py",
   "mimetype": "text/x-python",
   "name": "python",
   "nbconvert_exporter": "python",
   "pygments_lexer": "ipython3",
   "version": "3.8.12"
  }
 },
 "nbformat": 4,
 "nbformat_minor": 2
}
