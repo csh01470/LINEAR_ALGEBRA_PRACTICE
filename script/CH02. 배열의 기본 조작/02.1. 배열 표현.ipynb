{
 "cells": [
  {
   "cell_type": "markdown",
   "metadata": {},
   "source": [
    "## CH2.1. **배열 표현**"
   ]
  },
  {
   "cell_type": "markdown",
   "metadata": {},
   "source": [
    "## 00. **SET WORK ENVORINMENT**"
   ]
  },
  {
   "cell_type": "markdown",
   "metadata": {},
   "source": [
    "#### 00.1. **IMPORT PACKAGES AND SET OPTIONS**"
   ]
  },
  {
   "cell_type": "code",
   "execution_count": 1,
   "metadata": {},
   "outputs": [],
   "source": [
    "import numpy as np"
   ]
  },
  {
   "cell_type": "markdown",
   "metadata": {},
   "source": [
    "<b></b>"
   ]
  },
  {
   "cell_type": "markdown",
   "metadata": {},
   "source": [
    "## 01. **데이터 정밀도**"
   ]
  },
  {
   "cell_type": "markdown",
   "metadata": {},
   "source": [
    "#### **01.1. 정밀도(Precision)**\n",
    "##### **(1)** 숫자 $ {{1}\\over{3}} = 0.333 \\cdots{} $ 를 컴퓨터에 저장하고자할 경우, 무한 소수를 저장할 수 없기에 근사값으로 저장하는데, \n",
    "##### $ \\;\\;\\;\\; $ precision은 유효숫자의 자리수를 의미\n",
    "##### **(2)** 일반적으로 precision이 높아질수록 더 많은 메모리 공간이 필요\n",
    "<b></b>"
   ]
  },
  {
   "cell_type": "markdown",
   "metadata": {},
   "source": [
    "## 02. **벡터(1D-array) 표현** "
   ]
  },
  {
   "cell_type": "markdown",
   "metadata": {},
   "source": [
    "#### 02.1. **변수 할당 : `np.array()`**\n",
    "#### vector_01 $ \\; = \\begin{bmatrix} 7 \\\\ 5 \\\\ 3 \\end{bmatrix} $"
   ]
  },
  {
   "cell_type": "code",
   "execution_count": 2,
   "metadata": {},
   "outputs": [
    {
     "data": {
      "text/plain": [
       "array([7, 5, 3])"
      ]
     },
     "execution_count": 2,
     "metadata": {},
     "output_type": "execute_result"
    }
   ],
   "source": [
    "#(1) assign `vector_01`\n",
    "vector_01 = np.array(object=[7, 5, 3])\n",
    "\n",
    "#(2) print `vector_01`\n",
    "vector_01"
   ]
  },
  {
   "cell_type": "markdown",
   "metadata": {},
   "source": [
    "**(MEMO)** numpy 벡터는 **일반적으로** 행벡터, 열벡터를 구분하지 않음"
   ]
  },
  {
   "cell_type": "markdown",
   "metadata": {},
   "source": [
    "#### 02.2. **사이즈 확인 : `.shape`**"
   ]
  },
  {
   "cell_type": "code",
   "execution_count": 3,
   "metadata": {},
   "outputs": [
    {
     "data": {
      "text/plain": [
       "(3,)"
      ]
     },
     "execution_count": 3,
     "metadata": {},
     "output_type": "execute_result"
    }
   ],
   "source": [
    "#(1) print `vector_01` shape\n",
    "vector_01.shape"
   ]
  },
  {
   "cell_type": "markdown",
   "metadata": {},
   "source": [
    "**(MEMO)** 벡터의 경우 numpy 패키지에서는 행렬과 구분하기 위하여 열 사이즈가 생략됨"
   ]
  },
  {
   "cell_type": "markdown",
   "metadata": {},
   "source": [
    "#### 02.3. **인덱싱 : `[n]`**\n",
    "#### vector_01 $ \\; = \\begin{bmatrix} 7 \\\\ 5 \\\\ 3 \\end{bmatrix} = \\begin{bmatrix} a_{11} \\\\ a_{21} \\\\ a_{31} \\end{bmatrix}, \\; a_{31} = ? $"
   ]
  },
  {
   "cell_type": "code",
   "execution_count": 4,
   "metadata": {},
   "outputs": [
    {
     "data": {
      "text/plain": [
       "3"
      ]
     },
     "execution_count": 4,
     "metadata": {},
     "output_type": "execute_result"
    }
   ],
   "source": [
    "#(1) print `vector_01` indexing\n",
    "vector_01[2] "
   ]
  },
  {
   "cell_type": "markdown",
   "metadata": {},
   "source": [
    "**(MEMO)** 파이썬에서는 기본 인덱싱이 0부터 시작함"
   ]
  },
  {
   "cell_type": "markdown",
   "metadata": {},
   "source": [
    "#### 02.4. **슬라이싱 : `[n:m]`**\n",
    "#### vector_01 $ \\; = \\begin{bmatrix} 7 \\\\ 5 \\\\ 3 \\end{bmatrix} = \\begin{bmatrix} a_{11} \\\\ a_{21} \\\\ a_{31} \\end{bmatrix}, \\; \\begin{bmatrix} a_{21} \\\\ a_{31} \\end{bmatrix} = ? $"
   ]
  },
  {
   "cell_type": "code",
   "execution_count": 5,
   "metadata": {},
   "outputs": [
    {
     "data": {
      "text/plain": [
       "array([5, 3])"
      ]
     },
     "execution_count": 5,
     "metadata": {},
     "output_type": "execute_result"
    }
   ],
   "source": [
    "#(1) print `vector_01` slicing\n",
    "vector_01[1:3] "
   ]
  },
  {
   "cell_type": "markdown",
   "metadata": {},
   "source": [
    "## 03. **행렬(2D-array) 표현**"
   ]
  },
  {
   "cell_type": "markdown",
   "metadata": {},
   "source": [
    "#### 03.1. **변수 할당 : `np.array()`**\n",
    "#### matrix_01 $ \\; = \\begin{bmatrix} 1&2.5&3 \\\\ -1&-2&-1.5 \\\\ 4&5.5&6 \\end{bmatrix} $"
   ]
  },
  {
   "cell_type": "code",
   "execution_count": 6,
   "metadata": {},
   "outputs": [
    {
     "data": {
      "text/plain": [
       "array([[ 1. ,  2.5,  3. ],\n",
       "       [-1. , -2. , -1.5],\n",
       "       [ 4. ,  5.5,  6. ]])"
      ]
     },
     "execution_count": 6,
     "metadata": {},
     "output_type": "execute_result"
    }
   ],
   "source": [
    "#(1) assign `matrix_01`\n",
    "matrix_01 = np.array(object=[[1, 2.5, 3], [-1, -2, -1.5], [4, 5.5, 6]])\n",
    "\n",
    "#(2) print `matrix_01`\n",
    "matrix_01"
   ]
  },
  {
   "cell_type": "markdown",
   "metadata": {},
   "source": [
    "**(MEMO)** 행 벡터 단위로 `np.array()` 함수에 배열을 할당해야함"
   ]
  },
  {
   "cell_type": "markdown",
   "metadata": {},
   "source": [
    "#### 02.2. **사이즈 확인 : `.shape`**"
   ]
  },
  {
   "cell_type": "code",
   "execution_count": 7,
   "metadata": {},
   "outputs": [
    {
     "data": {
      "text/plain": [
       "(3, 3)"
      ]
     },
     "execution_count": 7,
     "metadata": {},
     "output_type": "execute_result"
    }
   ],
   "source": [
    "#(2) print `matrix_01` shape\n",
    "matrix_01.shape"
   ]
  },
  {
   "cell_type": "markdown",
   "metadata": {},
   "source": [
    "#### 03.3. **인덱싱 : `[n]`**\n",
    "#### matrix_01 $ \\; = \\begin{bmatrix} 1&2.5&3 \\\\ -1&-2&-1.5 \\\\ 4&5.5&6 \\end{bmatrix} = \\begin{bmatrix} a_{11}&a_{12}&a_{13} \\\\ a_{21}&a_{22}&a_{23} \\\\ a_{31}&a_{32}&a_{33} \\end{bmatrix} , \\; a_{23} = ? $"
   ]
  },
  {
   "cell_type": "code",
   "execution_count": 8,
   "metadata": {},
   "outputs": [
    {
     "data": {
      "text/plain": [
       "2.5"
      ]
     },
     "execution_count": 8,
     "metadata": {},
     "output_type": "execute_result"
    }
   ],
   "source": [
    "#(1) print `matrix_01` indexingg\n",
    "matrix_01[0, 1] \n",
    "\n",
    "# OR\n",
    "# matrix_01[0][1]"
   ]
  },
  {
   "cell_type": "markdown",
   "metadata": {},
   "source": [
    "#### 03.4. **슬라이싱 : `[n:m]`**\n",
    "#### matrix_01 $ \\; = \\begin{bmatrix} 1&2.5&3 \\\\ -1&-2&-1.5 \\\\ 4&5.5&6 \\end{bmatrix} = \\begin{bmatrix} a_{11}&a_{12}&a_{13} \\\\ a_{21}&a_{22}&a_{23} \\\\ a_{31}&a_{32}&a_{33} \\end{bmatrix} , \\; \\begin{bmatrix} a_{21}&a_{22}&a_{23} \\end{bmatrix} = ? $"
   ]
  },
  {
   "cell_type": "code",
   "execution_count": 9,
   "metadata": {},
   "outputs": [
    {
     "data": {
      "text/plain": [
       "array([-1. , -2. , -1.5])"
      ]
     },
     "execution_count": 9,
     "metadata": {},
     "output_type": "execute_result"
    }
   ],
   "source": [
    "#(1) print `matrix` slicing\n",
    "matrix_01[1, :]"
   ]
  },
  {
   "cell_type": "markdown",
   "metadata": {},
   "source": [
    "#### **(PLUS)** 복소수(complex) 행렬의 표현\n",
    "#### matrix_02 $ \\; = \\begin{bmatrix} 1-2i&3+i&1 \\\\ 1+2i&2-i&7 \\end{bmatrix} $"
   ]
  },
  {
   "cell_type": "code",
   "execution_count": 10,
   "metadata": {},
   "outputs": [
    {
     "data": {
      "text/plain": [
       "array([[1.-2.j, 3.+1.j, 1.+0.j],\n",
       "       [1.+2.j, 2.-1.j, 7.+0.j]])"
      ]
     },
     "execution_count": 10,
     "metadata": {},
     "output_type": "execute_result"
    }
   ],
   "source": [
    "#(1) assign `matrix_02`\n",
    "matrix_02 = np.array(object=[[1-2j, 3+1j, 1], [1+2j, 2-1j, 7]])\n",
    "# OR\n",
    "# matrix_02 = np.array(object=[[complex(real=1, imag=-2), complex(real=3, imag=1), 1], [complex(real=1, imag=2), complex(real=2, imag=-1), 7]])\n",
    "\n",
    "#(2) print `matrix_02`\n",
    "matrix_02"
   ]
  },
  {
   "cell_type": "markdown",
   "metadata": {},
   "source": [
    "## 04. **데이터 타입**"
   ]
  },
  {
   "cell_type": "markdown",
   "metadata": {},
   "source": [
    "#### 04.1. **타입 확인 : `.dtype`**"
   ]
  },
  {
   "cell_type": "code",
   "execution_count": 11,
   "metadata": {},
   "outputs": [
    {
     "data": {
      "text/plain": [
       "dtype('float64')"
      ]
     },
     "execution_count": 11,
     "metadata": {},
     "output_type": "execute_result"
    }
   ],
   "source": [
    "#(1) print `matrix_01` dtype\n",
    "matrix_01.dtype"
   ]
  },
  {
   "cell_type": "markdown",
   "metadata": {},
   "source": [
    "#### 04.2. **명시적 타입 변환 : `.astype()`**"
   ]
  },
  {
   "cell_type": "code",
   "execution_count": 12,
   "metadata": {},
   "outputs": [
    {
     "data": {
      "text/plain": [
       "array([[ 1. +0.j,  2.5+0.j,  3. +0.j],\n",
       "       [-1. +0.j, -2. +0.j, -1.5+0.j],\n",
       "       [ 4. +0.j,  5.5+0.j,  6. +0.j]])"
      ]
     },
     "execution_count": 12,
     "metadata": {},
     "output_type": "execute_result"
    }
   ],
   "source": [
    "#(1) assign `matrix_03` using astype\n",
    "matrix_03 = matrix_01.astype(dtype=np.complex128)\n",
    "\n",
    "#(2) print `matrix_03`\n",
    "matrix_03"
   ]
  },
  {
   "cell_type": "markdown",
   "metadata": {},
   "source": [
    "#### 04.3. **암묵적 타입 변환**"
   ]
  },
  {
   "cell_type": "code",
   "execution_count": 13,
   "metadata": {},
   "outputs": [
    {
     "data": {
      "text/plain": [
       "array([[ 2.+0.j,  5.+0.j,  6.+0.j],\n",
       "       [-2.+0.j, -4.+0.j, -3.+0.j],\n",
       "       [ 8.+0.j, 11.+0.j, 12.+0.j]])"
      ]
     },
     "execution_count": 13,
     "metadata": {},
     "output_type": "execute_result"
    }
   ],
   "source": [
    "#(1) assign `matrix_04`\n",
    "matrix_04 = matrix_01 + matrix_03\n",
    "\n",
    "#(2) print `matrix_04`\n",
    "matrix_04"
   ]
  },
  {
   "cell_type": "code",
   "execution_count": 14,
   "metadata": {},
   "outputs": [
    {
     "data": {
      "text/plain": [
       "dtype('complex128')"
      ]
     },
     "execution_count": 14,
     "metadata": {},
     "output_type": "execute_result"
    }
   ],
   "source": [
    "#(3) print `matrix_04` dtype\n",
    "matrix_04.dtype"
   ]
  }
 ],
 "metadata": {
  "kernelspec": {
   "display_name": "ML_SKL",
   "language": "python",
   "name": "python3"
  },
  "language_info": {
   "codemirror_mode": {
    "name": "ipython",
    "version": 3
   },
   "file_extension": ".py",
   "mimetype": "text/x-python",
   "name": "python",
   "nbconvert_exporter": "python",
   "pygments_lexer": "ipython3",
   "version": "3.8.18"
  }
 },
 "nbformat": 4,
 "nbformat_minor": 2
}
