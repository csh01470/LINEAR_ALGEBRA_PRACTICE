{
 "cells": [
  {
   "cell_type": "markdown",
   "metadata": {},
   "source": [
    "## CH2.2. **배열 입출력**"
   ]
  },
  {
   "cell_type": "markdown",
   "metadata": {},
   "source": [
    "## 00. **SET WORK ENVORINMENT**"
   ]
  },
  {
   "cell_type": "markdown",
   "metadata": {},
   "source": [
    "#### 00.1. **IMPORT PACKAGES AND SET OPTIONS**"
   ]
  },
  {
   "cell_type": "code",
   "execution_count": 1,
   "metadata": {},
   "outputs": [],
   "source": [
    "import numpy as np"
   ]
  },
  {
   "cell_type": "markdown",
   "metadata": {},
   "source": [
    "<b></b>"
   ]
  },
  {
   "cell_type": "markdown",
   "metadata": {},
   "source": [
    "## 01. **배열 데이터 읽기(불러오기)**"
   ]
  },
  {
   "cell_type": "markdown",
   "metadata": {},
   "source": [
    "#### 01.1. **.txt 형식으로 데이터 읽기 : `np.loadtxt()` or `np.genfromtxt()`**"
   ]
  },
  {
   "cell_type": "code",
   "execution_count": 5,
   "metadata": {},
   "outputs": [
    {
     "data": {
      "text/plain": [
       "array([[ 1. ,  2.5,  3. ],\n",
       "       [-1. , -2. , -1.5],\n",
       "       [ 4. ,  5. ,  6. ]])"
      ]
     },
     "execution_count": 5,
     "metadata": {},
     "output_type": "execute_result"
    }
   ],
   "source": [
    "#(1) Read txt file\n",
    "matrix = np.loadtxt(fname='../../data/p02_inp1.txt', delimiter=' ')\n",
    "# OR \n",
    "# matrix = np.genfromtxt(fname='../../data/p02_inp1.txt', delimiter=' ')\n",
    "\n",
    "#(2) print `matrix` object\n",
    "matrix"
   ]
  },
  {
   "cell_type": "markdown",
   "metadata": {},
   "source": [
    "#### 01.2. **.npy 형식으로 데이터 읽기 : `np.load()`**"
   ]
  },
  {
   "cell_type": "code",
   "execution_count": 7,
   "metadata": {},
   "outputs": [
    {
     "data": {
      "text/plain": [
       "array([[ 1. ,  2.5,  3. ],\n",
       "       [-1. , -2. , -1.5],\n",
       "       [ 4. ,  5. ,  6. ]])"
      ]
     },
     "execution_count": 7,
     "metadata": {},
     "output_type": "execute_result"
    }
   ],
   "source": [
    "#(1) Read npy file\n",
    "matrix = np.load(file='../../data/p02_inp1.npy')\n",
    "\n",
    "#(2) print \n",
    "matrix"
   ]
  },
  {
   "cell_type": "markdown",
   "metadata": {},
   "source": [
    "## 02. **숫자 출력 방식**"
   ]
  },
  {
   "cell_type": "markdown",
   "metadata": {},
   "source": [
    "#### 02.1. **일반 표기법(Standard Notation)**\n",
    "#### **(1)** 일상적인 숫자를 표현하는 데 적합한 표기 방식\n",
    "#### ex. $ 1500 $ 원, 수리경제학 $ 32 $ 번 문제 "
   ]
  },
  {
   "cell_type": "markdown",
   "metadata": {},
   "source": [
    "#### 02.2. **지수 표기법(Exponential Notation)**\n",
    "#### **(1)** 매우 크거나 작은 숫자를 표현하는 데 적합한 표기 방식\n",
    "#### ex. $ 1.53296e^{8} $ "
   ]
  },
  {
   "cell_type": "markdown",
   "metadata": {},
   "source": [
    "#### 02.3. **출력 형식의 제어 : `.format()`**"
   ]
  },
  {
   "cell_type": "code",
   "execution_count": 12,
   "metadata": {},
   "outputs": [
    {
     "name": "stdout",
     "output_type": "stream",
     "text": [
      "102392.1850\n"
     ]
    }
   ],
   "source": [
    "#(1) Define `number`\n",
    "number = 102392.1850173418290381\n",
    "\n",
    "#(2) Print `number` by floating format\n",
    "print('{:.4f}'.format(number))"
   ]
  },
  {
   "cell_type": "code",
   "execution_count": 13,
   "metadata": {},
   "outputs": [
    {
     "name": "stdout",
     "output_type": "stream",
     "text": [
      "1.0239e+05\n"
     ]
    }
   ],
   "source": [
    "#(3) Print `number` by exponential format\n",
    "print('{:.4e}'.format(number))"
   ]
  },
  {
   "cell_type": "markdown",
   "metadata": {},
   "source": [
    "## 03. **배열 데이터 쓰기(저장하기)**"
   ]
  },
  {
   "cell_type": "markdown",
   "metadata": {},
   "source": [
    "#### 03.1. **.txt 형식으로 데이터 쓰기 : `np.savetxt()`**"
   ]
  },
  {
   "cell_type": "code",
   "execution_count": null,
   "metadata": {},
   "outputs": [],
   "source": [
    "#(1) Write `matrix`\n",
    "np.savetxt(X=matrix, fname='../output/p02_inp1.txt', fmt='%0.4f', delimiter=r'\\|')"
   ]
  },
  {
   "cell_type": "markdown",
   "metadata": {},
   "source": [
    "#### 03.2. **.npy 형식으로 데이터 쓰기 : `np.save()`**"
   ]
  },
  {
   "cell_type": "code",
   "execution_count": null,
   "metadata": {},
   "outputs": [],
   "source": [
    "#(1) Write `matrix`\n",
    "np.save(file='../output/p02_inp1.npy', arr=matrix )"
   ]
  }
 ],
 "metadata": {
  "kernelspec": {
   "display_name": "ML_SKL",
   "language": "python",
   "name": "python3"
  },
  "language_info": {
   "codemirror_mode": {
    "name": "ipython",
    "version": 3
   },
   "file_extension": ".py",
   "mimetype": "text/x-python",
   "name": "python",
   "nbconvert_exporter": "python",
   "pygments_lexer": "ipython3",
   "version": "3.8.18"
  }
 },
 "nbformat": 4,
 "nbformat_minor": 2
}
